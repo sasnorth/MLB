{
 "cells": [
  {
   "cell_type": "code",
   "execution_count": 1,
   "metadata": {},
   "outputs": [
    {
     "name": "stdout",
     "output_type": "stream",
     "text": [
      "Requirement already satisfied: selenium in c:\\users\\sasno\\appdata\\roaming\\python\\python37\\site-packages (3.141.0)\n",
      "Requirement already satisfied: urllib3 in c:\\users\\sasno\\appdata\\roaming\\python\\python37\\site-packages (from selenium) (1.25.7)\n"
     ]
    }
   ],
   "source": [
    "!pip install selenium"
   ]
  },
  {
   "cell_type": "code",
   "execution_count": 2,
   "metadata": {},
   "outputs": [
    {
     "name": "stdout",
     "output_type": "stream",
     "text": [
      "Requirement already satisfied: beautifulsoup4 in c:\\users\\sasno\\appdata\\roaming\\python\\python37\\site-packages (4.8.2)\n",
      "Requirement already satisfied: soupsieve>=1.2 in c:\\users\\sasno\\appdata\\roaming\\python\\python37\\site-packages (from beautifulsoup4) (1.9.5)\n"
     ]
    }
   ],
   "source": [
    "!pip install beautifulsoup4"
   ]
  },
  {
   "cell_type": "code",
   "execution_count": 16,
   "metadata": {},
   "outputs": [],
   "source": [
    "from selenium import webdriver\n",
    "import time\n",
    "import pandas as pd"
   ]
  },
  {
   "cell_type": "code",
   "execution_count": 25,
   "metadata": {},
   "outputs": [],
   "source": [
    "chromeOptions = webdriver.ChromeOptions()\n",
    "prefs = {\"download.default_directory\" : r\"C:\\Users\\sasno\\Documents\\MLB_savant\"}\n",
    "chromeOptions.add_experimental_option(\"prefs\", prefs)\n",
    "chromeOptions.add_argument('--ignore-certificate-errors') "
   ]
  },
  {
   "cell_type": "code",
   "execution_count": 26,
   "metadata": {},
   "outputs": [],
   "source": [
    "# GoogleChromeを起動\n",
    "browser = webdriver.Chrome(executable_path='C:\\\\Users\\\\sasno\\\\Desktop\\\\Mypandas\\\\chromedriver.exe')\n",
    "browser.implicitly_wait(3)"
   ]
  },
  {
   "cell_type": "code",
   "execution_count": 6,
   "metadata": {},
   "outputs": [
    {
     "name": "stdout",
     "output_type": "stream",
     "text": [
      "https://baseballsavant.mlb.com/statcast_search :アクセス完了\n"
     ]
    }
   ],
   "source": [
    "# ウェブサイトへアクセス\n",
    "url = \"https://baseballsavant.mlb.com/statcast_search\"\n",
    "time.sleep(1)\n",
    "browser.get(url)\n",
    "print(url, \":アクセス完了\")"
   ]
  },
  {
   "cell_type": "code",
   "execution_count": null,
   "metadata": {},
   "outputs": [],
   "source": [
    "# テキストボックスを入力\n",
    "print(\"フォームを送信\")"
   ]
  },
  {
   "cell_type": "code",
   "execution_count": 9,
   "metadata": {},
   "outputs": [
    {
     "name": "stdout",
     "output_type": "stream",
     "text": [
      "情報を入力してSearchを押しました\n"
     ]
    }
   ],
   "source": [
    "# 入力したデータをクリック\n",
    "browser_from = browser.find_element_by_xpath('//*[@id=\"pfx_form\"]/div[3]/div/input[1]')\n",
    "time.sleep(3)\n",
    "browser_from.click()\n",
    "print(\"情報を入力してSearchを押しました\")"
   ]
  },
  {
   "cell_type": "code",
   "execution_count": 10,
   "metadata": {},
   "outputs": [
    {
     "name": "stdout",
     "output_type": "stream",
     "text": [
      "ダウンロードボタンをクリック\n"
     ]
    }
   ],
   "source": [
    "# ダウンロードボタンをクリック\n",
    "frm = browser.find_element_by_xpath('//*[@id=\"table_all_pid_\"]/img')\n",
    "time.sleep(1)\n",
    "frm.click()\n",
    "print('ダウンロードボタンをクリック')"
   ]
  },
  {
   "cell_type": "code",
   "execution_count": null,
   "metadata": {},
   "outputs": [],
   "source": []
  }
 ],
 "metadata": {
  "kernelspec": {
   "display_name": "Python 3",
   "language": "python",
   "name": "python3"
  },
  "language_info": {
   "codemirror_mode": {
    "name": "ipython",
    "version": 3
   },
   "file_extension": ".py",
   "mimetype": "text/x-python",
   "name": "python",
   "nbconvert_exporter": "python",
   "pygments_lexer": "ipython3",
   "version": "3.7.7"
  }
 },
 "nbformat": 4,
 "nbformat_minor": 4
}
